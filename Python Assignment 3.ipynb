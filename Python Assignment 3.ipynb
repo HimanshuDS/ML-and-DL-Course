{
 "cells": [
  {
   "cell_type": "markdown",
   "id": "engaging-specialist",
   "metadata": {},
   "source": [
    "# Question 1.1"
   ]
  },
  {
   "cell_type": "code",
   "execution_count": 89,
   "id": "relevant-silence",
   "metadata": {
    "scrolled": true
   },
   "outputs": [],
   "source": [
    "from functools import reduce"
   ]
  },
  {
   "cell_type": "code",
   "execution_count": 90,
   "id": "verbal-homeless",
   "metadata": {},
   "outputs": [],
   "source": [
    "# Function definition\n",
    "def myreduce(func,list1):\n",
    "    if len(list1) == 1:\n",
    "        return list1[0]\n",
    "    for i in list1:\n",
    "        if i == list1[0] or i == list1[1]:\n",
    "            ans = func(list1[0],list1[1])\n",
    "        else:\n",
    "            ans = func(ans,i)\n",
    "    return ans"
   ]
  },
  {
   "cell_type": "code",
   "execution_count": 97,
   "id": "false-judge",
   "metadata": {},
   "outputs": [
    {
     "name": "stdout",
     "output_type": "stream",
     "text": [
      "-699\n"
     ]
    }
   ],
   "source": [
    "#Testing of function\n",
    "my_numbers = [1,232,3432,2334,234,2,21,23,-3495,-3483]\n",
    "result = myreduce(lambda num1, num2: num1 + num2, my_numbers)\n",
    "print(result)"
   ]
  },
  {
   "cell_type": "code",
   "execution_count": 98,
   "id": "located-saying",
   "metadata": {},
   "outputs": [
    {
     "data": {
      "text/plain": [
       "-699"
      ]
     },
     "execution_count": 98,
     "metadata": {},
     "output_type": "execute_result"
    }
   ],
   "source": [
    "#Comparing with inbuilt reduce function\n",
    "result1 = reduce(lambda num1, num2: num1 + num2, my_numbers)\n",
    "result1"
   ]
  },
  {
   "cell_type": "markdown",
   "id": "round-union",
   "metadata": {},
   "source": [
    "# Question 1.2"
   ]
  },
  {
   "cell_type": "code",
   "execution_count": 12,
   "id": "accomplished-dominican",
   "metadata": {},
   "outputs": [],
   "source": [
    "#Function definition\n",
    "def myfilter(func,list1):\n",
    "    m = []\n",
    "    for i in list1:\n",
    "        if func(i)== True:\n",
    "            m.append(i)\n",
    "    return m    "
   ]
  },
  {
   "cell_type": "code",
   "execution_count": 13,
   "id": "conventional-desperate",
   "metadata": {},
   "outputs": [
    {
     "name": "stdout",
     "output_type": "stream",
     "text": [
      "['madam', 'anutforajaroftuna']\n"
     ]
    }
   ],
   "source": [
    "#Testing of function\n",
    "dromes = (\"demigod\", \"rewire\", \"madam\", \"freer\", \"anutforajaroftuna\", \"kiosk\")\n",
    "result = myfilter(lambda word: word == word[::-1], dromes)\n",
    "print(result)"
   ]
  },
  {
   "cell_type": "code",
   "execution_count": 14,
   "id": "southwest-roberts",
   "metadata": {},
   "outputs": [
    {
     "name": "stdout",
     "output_type": "stream",
     "text": [
      "['madam', 'anutforajaroftuna']\n"
     ]
    }
   ],
   "source": [
    "#Comparing with inbuilt filter function\n",
    "result1 = filter(lambda word: word == word[::-1], dromes)\n",
    "print(list(result1))"
   ]
  },
  {
   "cell_type": "markdown",
   "id": "crazy-discount",
   "metadata": {},
   "source": [
    "# Question 2"
   ]
  },
  {
   "cell_type": "code",
   "execution_count": 26,
   "id": "split-prize",
   "metadata": {},
   "outputs": [
    {
     "data": {
      "text/plain": [
       "['x', 'xx', 'xxx', 'xxxx', 'y', 'yy', 'yyy', 'yyyy', 'z', 'zz', 'zzz', 'zzzz']"
      ]
     },
     "execution_count": 26,
     "metadata": {},
     "output_type": "execute_result"
    }
   ],
   "source": [
    "list1 = ['x','y','z']\n",
    "newlist1 = [i*j for i in list1 for j in range(1,5)]\n",
    "newlist1"
   ]
  },
  {
   "cell_type": "code",
   "execution_count": 27,
   "id": "superb-trace",
   "metadata": {},
   "outputs": [
    {
     "data": {
      "text/plain": [
       "['x', 'y', 'z', 'xx', 'yy', 'zz', 'xxx', 'yyy', 'zzz', 'xxxx', 'yyyy', 'zzzz']"
      ]
     },
     "execution_count": 27,
     "metadata": {},
     "output_type": "execute_result"
    }
   ],
   "source": [
    "newlist2 = [i*j for j in range(1,5) for i in list1]\n",
    "newlist2"
   ]
  },
  {
   "cell_type": "code",
   "execution_count": 49,
   "id": "enabling-confidentiality",
   "metadata": {},
   "outputs": [
    {
     "name": "stdout",
     "output_type": "stream",
     "text": [
      "[[2], [3], [4], [3], [4], [5], [4], [5], [6]] [[2, 3, 4, 5], [3, 4, 5, 6], [4, 5, 6, 7], [5, 6, 7, 8]]\n"
     ]
    }
   ],
   "source": [
    "list2 = [2,3,4,5,6,7,8]\n",
    "newlist3 = [[i] for j in range(3) for i in list2[j:j+3]]\n",
    "\n",
    "newlist4 = [[i for i in list2[j:j+4]] for j in range(4)]\n",
    "print(newlist3, newlist4)"
   ]
  },
  {
   "cell_type": "code",
   "execution_count": 53,
   "id": "meaningful-syndication",
   "metadata": {},
   "outputs": [
    {
     "name": "stdout",
     "output_type": "stream",
     "text": [
      "[(1, 1), (2, 1), (3, 1), (1, 2), (2, 2), (3, 2), (1, 3), (2, 3), (3, 3)]\n"
     ]
    }
   ],
   "source": [
    "list4 = [1,2,3]\n",
    "newlist5 = [(i,j) for j in list4 for i in list4]\n",
    "print(list(newlist5))"
   ]
  }
 ],
 "metadata": {
  "kernelspec": {
   "display_name": "Python 3",
   "language": "python",
   "name": "python3"
  },
  "language_info": {
   "codemirror_mode": {
    "name": "ipython",
    "version": 3
   },
   "file_extension": ".py",
   "mimetype": "text/x-python",
   "name": "python",
   "nbconvert_exporter": "python",
   "pygments_lexer": "ipython3",
   "version": "3.7.10"
  }
 },
 "nbformat": 4,
 "nbformat_minor": 5
}
