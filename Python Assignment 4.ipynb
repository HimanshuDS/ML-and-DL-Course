{
 "cells": [
  {
   "cell_type": "markdown",
   "id": "accurate-novel",
   "metadata": {},
   "source": [
    "# Question 1.1"
   ]
  },
  {
   "cell_type": "code",
   "execution_count": 84,
   "id": "incorporate-conditioning",
   "metadata": {},
   "outputs": [],
   "source": [
    "#Class and sub-class definition\n",
    "class sides:\n",
    "    def __init__(self,a,b,c):\n",
    "        self.a = a\n",
    "        self.b = b\n",
    "        self.c = c\n",
    "class area(sides):\n",
    "    def __init__(self,*args):\n",
    "        super(area,self).__init__(*args)\n",
    "    def ans(self):\n",
    "        s = (self.a+self.b+self.c)/2\n",
    "        k = (s*(s-self.a)*(s-self.b)*(s-self.c))**0.5\n",
    "        return k"
   ]
  },
  {
   "cell_type": "code",
   "execution_count": 85,
   "id": "functioning-operations",
   "metadata": {},
   "outputs": [],
   "source": [
    "#Checking function\n",
    "area_value = area(5,12,13)"
   ]
  },
  {
   "cell_type": "code",
   "execution_count": 86,
   "id": "desirable-humor",
   "metadata": {},
   "outputs": [
    {
     "data": {
      "text/plain": [
       "30.0"
      ]
     },
     "execution_count": 86,
     "metadata": {},
     "output_type": "execute_result"
    }
   ],
   "source": [
    "area_value.ans()"
   ]
  },
  {
   "cell_type": "markdown",
   "id": "correct-sphere",
   "metadata": {},
   "source": [
    "# Question 1.2"
   ]
  },
  {
   "cell_type": "code",
   "execution_count": 87,
   "id": "guilty-consortium",
   "metadata": {},
   "outputs": [],
   "source": [
    "#Function Definition\n",
    "def filter_long_words(list1,n):\n",
    "    result = filter(lambda word: len(word) > n, list1)\n",
    "    return list(result)"
   ]
  },
  {
   "cell_type": "code",
   "execution_count": 88,
   "id": "textile-sponsorship",
   "metadata": {},
   "outputs": [
    {
     "data": {
      "text/plain": [
       "['dfsdf', 'wesdfsdgdf', 'fgfgd', 'dgfsh']"
      ]
     },
     "execution_count": 88,
     "metadata": {},
     "output_type": "execute_result"
    }
   ],
   "source": [
    "#Function checking\n",
    "l = ['dfsdf','wesdfsdgdf','d','sdf','er','fgfgd','sfsd','sdsf','dgfsh']\n",
    "n = 4\n",
    "filter_long_words(l,n)"
   ]
  },
  {
   "cell_type": "markdown",
   "id": "fluid-graph",
   "metadata": {},
   "source": [
    "# Question 2.1"
   ]
  },
  {
   "cell_type": "code",
   "execution_count": 89,
   "id": "understanding-making",
   "metadata": {},
   "outputs": [],
   "source": [
    "#Function Definition\n",
    "def len_word(list1):\n",
    "    m = []\n",
    "    for i in list1:\n",
    "        m.append(len(i))\n",
    "    return m"
   ]
  },
  {
   "cell_type": "code",
   "execution_count": 90,
   "id": "generic-voice",
   "metadata": {},
   "outputs": [
    {
     "data": {
      "text/plain": [
       "[5, 10, 1, 3, 2, 5, 4, 4, 5]"
      ]
     },
     "execution_count": 90,
     "metadata": {},
     "output_type": "execute_result"
    }
   ],
   "source": [
    "#Function checking\n",
    "l = ['dfsdf','wesdfsdgdf','d','sdf','er','fgfgd','sfsd','sdsf','dgfsh']\n",
    "len_word(l)"
   ]
  },
  {
   "cell_type": "markdown",
   "id": "guided-court",
   "metadata": {},
   "source": [
    "# Question 2.2"
   ]
  },
  {
   "cell_type": "code",
   "execution_count": 91,
   "id": "chubby-receptor",
   "metadata": {},
   "outputs": [],
   "source": [
    "#Function Definition\n",
    "def check_vowel(s):\n",
    "    if len(s) == 1:\n",
    "        vowels = ['a','e','i','o','u']\n",
    "        if s in vowels:\n",
    "            return True\n",
    "        else:\n",
    "            return False\n",
    "    else:\n",
    "        print('Enter only one character, string not allowed')"
   ]
  },
  {
   "cell_type": "code",
   "execution_count": 93,
   "id": "cardiac-shock",
   "metadata": {},
   "outputs": [
    {
     "name": "stdout",
     "output_type": "stream",
     "text": [
      "Enter any character: t\n"
     ]
    },
    {
     "data": {
      "text/plain": [
       "False"
      ]
     },
     "execution_count": 93,
     "metadata": {},
     "output_type": "execute_result"
    }
   ],
   "source": [
    "#Function checking\n",
    "x= input('Enter any character: ')\n",
    "check_vowel(x)"
   ]
  }
 ],
 "metadata": {
  "kernelspec": {
   "display_name": "Python 3",
   "language": "python",
   "name": "python3"
  },
  "language_info": {
   "codemirror_mode": {
    "name": "ipython",
    "version": 3
   },
   "file_extension": ".py",
   "mimetype": "text/x-python",
   "name": "python",
   "nbconvert_exporter": "python",
   "pygments_lexer": "ipython3",
   "version": "3.7.10"
  }
 },
 "nbformat": 4,
 "nbformat_minor": 5
}
