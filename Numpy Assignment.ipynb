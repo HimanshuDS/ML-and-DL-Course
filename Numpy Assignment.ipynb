{
 "cells": [
  {
   "cell_type": "code",
   "execution_count": 1,
   "id": "voluntary-litigation",
   "metadata": {},
   "outputs": [],
   "source": [
    "import numpy as np"
   ]
  },
  {
   "cell_type": "code",
   "execution_count": 4,
   "id": "antique-doubt",
   "metadata": {},
   "outputs": [],
   "source": [
    "#Q1\n",
    "#Using vander function in numpy\n",
    "def Vander(x):\n",
    "    print(np.vander(x, x.size,increasing = False))"
   ]
  },
  {
   "cell_type": "code",
   "execution_count": 5,
   "id": "norwegian-stationery",
   "metadata": {},
   "outputs": [
    {
     "name": "stdout",
     "output_type": "stream",
     "text": [
      "[[   1    1    1    1    1    1]\n",
      " [  32   16    8    4    2    1]\n",
      " [ 243   81   27    9    3    1]\n",
      " [1024  256   64   16    4    1]\n",
      " [3125  625  125   25    5    1]\n",
      " [7776 1296  216   36    6    1]]\n"
     ]
    }
   ],
   "source": [
    "x = np.array([1,2,3,4,5,6])\n",
    "Vander(x)"
   ]
  },
  {
   "cell_type": "code",
   "execution_count": 9,
   "id": "independent-dakota",
   "metadata": {},
   "outputs": [],
   "source": [
    "#Q2\n",
    "def moving_avg(x, k):\n",
    "    result = []\n",
    "    for i in range(0,x.size-k+1):\n",
    "        result.append(np.mean(x[i:i+k]))\n",
    "    return result"
   ]
  },
  {
   "cell_type": "code",
   "execution_count": 10,
   "id": "worst-shepherd",
   "metadata": {},
   "outputs": [
    {
     "data": {
      "text/plain": [
       "[5.0,\n",
       " 4.666666666666667,\n",
       " 5.666666666666667,\n",
       " 6.666666666666667,\n",
       " 9.666666666666666,\n",
       " 28.666666666666668,\n",
       " 49.333333333333336,\n",
       " 72.66666666666667,\n",
       " 84.0,\n",
       " 93.33333333333333,\n",
       " 116.33333333333333]"
      ]
     },
     "execution_count": 10,
     "metadata": {},
     "output_type": "execute_result"
    }
   ],
   "source": [
    "x = np.array([3, 5, 7, 2, 8, 10, 11, 65, 72, 81, 99, 100, 150])\n",
    "moving_avg(x,3)"
   ]
  },
  {
   "cell_type": "code",
   "execution_count": null,
   "id": "close-concern",
   "metadata": {},
   "outputs": [],
   "source": []
  }
 ],
 "metadata": {
  "kernelspec": {
   "display_name": "Python 3",
   "language": "python",
   "name": "python3"
  },
  "language_info": {
   "codemirror_mode": {
    "name": "ipython",
    "version": 3
   },
   "file_extension": ".py",
   "mimetype": "text/x-python",
   "name": "python",
   "nbconvert_exporter": "python",
   "pygments_lexer": "ipython3",
   "version": "3.7.10"
  }
 },
 "nbformat": 4,
 "nbformat_minor": 5
}
